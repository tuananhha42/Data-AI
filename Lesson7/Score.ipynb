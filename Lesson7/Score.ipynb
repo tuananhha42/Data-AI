{
 "cells": [
  {
   "cell_type": "markdown",
   "metadata": {},
   "source": [
    "![Alt text](image.png)"
   ]
  },
  {
   "cell_type": "code",
   "execution_count": 8,
   "metadata": {},
   "outputs": [
    {
     "name": "stdout",
     "output_type": "stream",
     "text": [
      "[91 43 62  9 22 55 43 33  3 90 25 37 74 80  1 50 70 77 17 75 72 85 20 52\n",
      " 79 22 98 55 87 48  9 71  9 84 73 81 61 87 51 59 71 83 60  5 22 36 76 83\n",
      " 19 27 38 71 86 13 63 47  1 49  6 51 85 96 57 81 67 28 57 92 66 54  6 41\n",
      " 12 61 16 69 20 36 78 81 50 14 98  5  1 48 84 73 33 61 39 13 56 97 42 63\n",
      " 31 75 45 61]\n",
      "[ 99 286  81 195 102 197 207  30 237  98 143  50   1 258 241 252 260 218\n",
      " 145 170  68  94  14 277  98 278  49  26 179  33 206 145  23 169 239  97\n",
      "  92 208 206 118 257 288 126 150  20  93 169  26 100  66 189 285 101  43\n",
      "  51 144 264  52 103 173  17  76  98  70 202  13  59 212  17 247  13 132\n",
      "  87 256  20  12 135  54 119  97  96  88 238  76  37 150 179 246 233  66\n",
      " 201 258  11 101 263  46 166 133   1 288]\n"
     ]
    }
   ],
   "source": [
    "import numpy as np\n",
    "\n",
    "y_train = np.random.randint(1,100,100) #  train\n",
    "y_train_pre = np.random.randint(1,300,100) # du bao\n",
    "print(y_train)\n",
    "print(y_train_pre)\n"
   ]
  },
  {
   "cell_type": "code",
   "execution_count": 9,
   "metadata": {},
   "outputs": [
    {
     "name": "stdout",
     "output_type": "stream",
     "text": [
      "R2 score is -17.88\n",
      "R2 score 2 is -17.87654201760476\n"
     ]
    }
   ],
   "source": [
    "sum = np.sum((y_train - y_train_pre)**2)\n",
    "\n",
    "sum2 = np.sum((y_train-y_train.mean())**2) # y_train.mean() la tinh trung binh\n",
    "\n",
    "#sum3 = np.sum((y_train-y_train.sum()/len(y_train))**2)\n",
    "\n",
    "r2_score = round((1 - sum/sum2),2) # lam tron 2 chu so cuoi o phan thap phan\n",
    "r2_score_2 = (1-sum/sum2) # ko làm tròn \n",
    "print('R2 score is {}'.format(r2_score))\n",
    "print('R2 score 2 is {}'.format(r2_score_2))"
   ]
  },
  {
   "cell_type": "markdown",
   "metadata": {},
   "source": [
    "#### mean bias error"
   ]
  },
  {
   "cell_type": "markdown",
   "metadata": {},
   "source": [
    "![Alt text](image-1.png)"
   ]
  },
  {
   "cell_type": "code",
   "execution_count": 10,
   "metadata": {},
   "outputs": [
    {
     "name": "stdout",
     "output_type": "stream",
     "text": [
      "-93.9\n"
     ]
    }
   ],
   "source": [
    "import numpy as np\n",
    "\n",
    "y_label = np.random.randint(1,100,100) # Yi\n",
    "y_predict = np.random.randint(1,300,100) #f(Xi)\n",
    "\n",
    "Lmbe = np.sum(y_label - y_predict)/len(y_label)\n",
    "print(Lmbe)\n"
   ]
  },
  {
   "cell_type": "markdown",
   "metadata": {},
   "source": [
    "#### Mean absolute error"
   ]
  },
  {
   "cell_type": "markdown",
   "metadata": {},
   "source": [
    "![Alt text](image-2.png)"
   ]
  },
  {
   "cell_type": "code",
   "execution_count": 11,
   "metadata": {},
   "outputs": [
    {
     "name": "stdout",
     "output_type": "stream",
     "text": [
      "105.28\n"
     ]
    }
   ],
   "source": [
    "Lmae = np.sum(abs(y_label - y_predict))/len(y_label) # tri tuyet doi dung abs()\n",
    "print(Lmae)"
   ]
  },
  {
   "cell_type": "markdown",
   "metadata": {},
   "source": [
    "#### mean squared error"
   ]
  },
  {
   "cell_type": "markdown",
   "metadata": {},
   "source": [
    "![Alt text](image-3.png)"
   ]
  },
  {
   "cell_type": "code",
   "execution_count": 12,
   "metadata": {},
   "outputs": [
    {
     "name": "stdout",
     "output_type": "stream",
     "text": [
      "16881.98\n"
     ]
    }
   ],
   "source": [
    "Lmse = np.sum((y_label - y_predict) ** 2)/len(y_label)\n",
    "print(Lmse)"
   ]
  },
  {
   "cell_type": "markdown",
   "metadata": {},
   "source": [
    "#### Huber loss"
   ]
  },
  {
   "cell_type": "markdown",
   "metadata": {},
   "source": [
    "![Alt text](image-4.png)"
   ]
  },
  {
   "cell_type": "markdown",
   "metadata": {},
   "source": [
    "![Alt text](image-5.png)"
   ]
  },
  {
   "cell_type": "code",
   "execution_count": 13,
   "metadata": {},
   "outputs": [
    {
     "name": "stdout",
     "output_type": "stream",
     "text": [
      "huber loss: 104.78\n"
     ]
    }
   ],
   "source": [
    "def huber_loss(y_label, y_predict, delta):\n",
    "    residual = np.abs(y_label - y_predict)\n",
    "    quadratic_term = 0.5 * np.square(residual)\n",
    "    linear_term = delta * (residual - 0.5 * delta)\n",
    "    loss = np.where(residual <= delta, quadratic_term, linear_term)\n",
    "    return np.mean(loss)\n",
    "\n",
    "delta = 1\n",
    "\n",
    "huber_loss_value = huber_loss(y_label, y_predict, delta)\n",
    "print(\"huber loss:\", huber_loss_value)"
   ]
  },
  {
   "cell_type": "markdown",
   "metadata": {},
   "source": [
    "#### Log cosh loss"
   ]
  },
  {
   "cell_type": "markdown",
   "metadata": {},
   "source": [
    "![Alt text](image-7.png)"
   ]
  },
  {
   "cell_type": "code",
   "execution_count": 14,
   "metadata": {},
   "outputs": [
    {
     "name": "stdout",
     "output_type": "stream",
     "text": [
      "104.58960816141509\n"
     ]
    }
   ],
   "source": [
    "Log_cosh = (np.sum(np.log(np.cosh(y_predict - y_label))))/len(y_label)\n",
    "print(Log_cosh)"
   ]
  }
 ],
 "metadata": {
  "kernelspec": {
   "display_name": "anhkun",
   "language": "python",
   "name": "python3"
  },
  "language_info": {
   "codemirror_mode": {
    "name": "ipython",
    "version": 3
   },
   "file_extension": ".py",
   "mimetype": "text/x-python",
   "name": "python",
   "nbconvert_exporter": "python",
   "pygments_lexer": "ipython3",
   "version": "3.8.16"
  },
  "orig_nbformat": 4
 },
 "nbformat": 4,
 "nbformat_minor": 2
}
