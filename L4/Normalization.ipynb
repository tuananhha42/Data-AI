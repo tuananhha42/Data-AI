{
 "cells": [
  {
   "cell_type": "code",
   "execution_count": 11,
   "metadata": {},
   "outputs": [
    {
     "name": "stdout",
     "output_type": "stream",
     "text": [
      "[[1.0e+02 1.0e-03]\n",
      " [8.0e+00 5.0e-02]\n",
      " [5.0e+01 5.0e-03]\n",
      " [8.8e+01 7.0e-02]\n",
      " [4.0e+00 1.0e-01]]\n",
      "[[1.         0.        ]\n",
      " [0.04166667 0.49494949]\n",
      " [0.47916667 0.04040404]\n",
      " [0.875      0.6969697 ]\n",
      " [0.         1.        ]]\n"
     ]
    }
   ],
   "source": [
    "from numpy import asarray\n",
    "from sklearn.preprocessing import MinMaxScaler\n",
    "\n",
    "data = asarray([[100,0.001],\n",
    "                [8, 0.05],\n",
    "                [50, 0.005],\n",
    "                [88,0.07],\n",
    "                [4,0.1]])\n",
    "\n",
    "print(data)\n",
    "scaler = MinMaxScaler()\n",
    "\n",
    "scaler = scaler.fit_transform(data)\n",
    "print(scaler)"
   ]
  },
  {
   "cell_type": "code",
   "execution_count": 12,
   "metadata": {},
   "outputs": [
    {
     "name": "stdout",
     "output_type": "stream",
     "text": [
      "Giá trị lớn nhất trong dãy số là: 12\n"
     ]
    }
   ],
   "source": [
    "def find_max(ds):\n",
    "    max_value = ds[0] \n",
    "    for num in ds:\n",
    "     if num > max_value:\n",
    "        max_value = num\n",
    "    return max_value\n",
    "list_data = [10, 5, 8, 12, 3, 9] \n",
    "max_value_data = find_max(list_data)\n",
    "print(\"Giá trị lớn nhất trong dãy số là:\", max_value_data)"
   ]
  },
  {
   "cell_type": "code",
   "execution_count": 13,
   "metadata": {},
   "outputs": [
    {
     "name": "stdout",
     "output_type": "stream",
     "text": [
      "Giá trị lớn nhất trong dãy số là: 3\n"
     ]
    }
   ],
   "source": [
    "def find_min(ds):\n",
    "    min_value = ds[0] \n",
    "    for num in ds:\n",
    "     if num < min_value:\n",
    "        min_value = num\n",
    "    return min_value\n",
    "list_data = [10, 5, 8, 12, 3, 9] \n",
    "min_value_data = find_min(list_data)\n",
    "print(\"Giá trị lớn nhất trong dãy số là:\", min_value_data)"
   ]
  },
  {
   "cell_type": "code",
   "execution_count": 14,
   "metadata": {},
   "outputs": [
    {
     "name": "stdout",
     "output_type": "stream",
     "text": [
      "[0.7777777777777778, 0.2222222222222222, 0.5555555555555556, 1.0, 0.0, 0.6666666666666666]\n"
     ]
    }
   ],
   "source": [
    "# chuẩn hóa list [10, 5, 8, 12, 3, 9]\n",
    "def normalization(list_data):\n",
    "    normal_list = []\n",
    "    for i in list_data:\n",
    "        a = (i-min_value_data)/(max_value_data - min_value_data)\n",
    "        normal_list.append(a)\n",
    "    return normal_list\n",
    "a = normalization(list_data)\n",
    "print(a)"
   ]
  },
  {
   "cell_type": "markdown",
   "metadata": {},
   "source": [
    "### Standardization"
   ]
  },
  {
   "cell_type": "code",
   "execution_count": 15,
   "metadata": {},
   "outputs": [
    {
     "name": "stdout",
     "output_type": "stream",
     "text": [
      "47\n"
     ]
    }
   ],
   "source": [
    "list_data = [10, 5, 8, 12, 3, 9]\n",
    "\n",
    "# ham tinh tong list\n",
    "def sum_list(list_data):\n",
    "    sum = 0\n",
    "\n",
    "    for i in list_data:\n",
    "        sum += i\n",
    "    return sum\n",
    "        \n",
    "a = sum_list(list_data)\n",
    "print(a)\n"
   ]
  },
  {
   "cell_type": "code",
   "execution_count": 16,
   "metadata": {},
   "outputs": [
    {
     "name": "stdout",
     "output_type": "stream",
     "text": [
      "7.833333333333333\n"
     ]
    }
   ],
   "source": [
    "# tinh mean- trung binh cong\n",
    "mean_list = sum_list(list_data)/len(list_data)\n",
    "print(mean_list)"
   ]
  },
  {
   "cell_type": "code",
   "execution_count": 17,
   "metadata": {},
   "outputs": [],
   "source": [
    "# ngoai ra co the su dung ham sum()\n",
    "# a = [10, 5, 8, 12, 3, 9]\n",
    "# x = sum(a)\n",
    "# print(x)"
   ]
  },
  {
   "cell_type": "code",
   "execution_count": 18,
   "metadata": {},
   "outputs": [
    {
     "name": "stdout",
     "output_type": "stream",
     "text": [
      "List (Xi - mean) : [4.6944444444444455, 8.027777777777777, 0.027777777777777877, 17.361111111111114, 23.361111111111107, 1.3611111111111118]\n",
      "Value Std 7.404953297174354\n"
     ]
    }
   ],
   "source": [
    "import math\n",
    "list_data = [10, 5, 8, 12, 3, 9]\n",
    "std_list = []\n",
    "\n",
    "for i in list_data:\n",
    "    x = (i - mean_list)**2\n",
    "    std_list.append(x)\n",
    "\n",
    "print(\"List (Xi - mean) :\",std_list)\n",
    "std = math.sqrt(sum_list(std_list))\n",
    "print(\"Value Std\",std)\n",
    "    \n"
   ]
  },
  {
   "cell_type": "code",
   "execution_count": 19,
   "metadata": {},
   "outputs": [
    {
     "name": "stdout",
     "output_type": "stream",
     "text": [
      "[0.2925969387941234, -0.3826267661153921, 0.022507456830317223, 0.5626864207579296, -0.6527162480791983, 0.15755219781222032]\n"
     ]
    }
   ],
   "source": [
    "# Chuẩn hóa list [10, 5, 8, 12, 3, 9]\n",
    "standar_list = []\n",
    "for i in list_data:\n",
    "    standar_value = (i - mean_list)/std\n",
    "    standar_list.append(standar_value)\n",
    "print(standar_list)\n"
   ]
  },
  {
   "cell_type": "code",
   "execution_count": null,
   "metadata": {},
   "outputs": [],
   "source": []
  }
 ],
 "metadata": {
  "kernelspec": {
   "display_name": "anhkun",
   "language": "python",
   "name": "python3"
  },
  "language_info": {
   "codemirror_mode": {
    "name": "ipython",
    "version": 3
   },
   "file_extension": ".py",
   "mimetype": "text/x-python",
   "name": "python",
   "nbconvert_exporter": "python",
   "pygments_lexer": "ipython3",
   "version": "3.8.16"
  },
  "orig_nbformat": 4
 },
 "nbformat": 4,
 "nbformat_minor": 2
}
