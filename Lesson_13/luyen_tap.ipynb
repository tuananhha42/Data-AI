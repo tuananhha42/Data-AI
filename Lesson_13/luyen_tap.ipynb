{
 "cells": [
  {
   "attachments": {},
   "cell_type": "markdown",
   "metadata": {},
   "source": [
    "## Bài tập: Dự đoán bênh nhân có bị mắc tiểu đường hay không ?\n",
    "\n",
    "Mục tiêu: Sử dụng bộ dữ liệu Diabetes để dự đoán bệnh nhân tiểu đường và đánh giá hiệu suất của mô hình.\n",
    "\n",
    "Dữ liệu: Sử dụng bộ dữ liệu \"diabetes.csv\" chứa thông tin về các chỉ số của bệnh nhân \n"
   ]
  },
  {
   "attachments": {},
   "cell_type": "markdown",
   "metadata": {},
   "source": [
    "### Câu 1: Thực hiện các bước cơ bản để chuẩn bị dữ liệu cho mô hình học máy:\n",
    "\n",
    "- Tải bộ dữ liệu \"diabetes.csv\".\n",
    "- Phân tích bộ dữ liệu : gồm nhữ feature nào , đâu là giá trị cần dự đoán , giá trị dự đoán có đặc điểm gì , bài toán thuộc bài toán phân loại hay hồi quy,..?\n",
    "- Kiểm tra và xử lý dữ liệu bị thiếu (nếu có).\n",
    "- Phân chia dữ liệu thành tập huấn luyện và tập kiểm tra (tỷ lệ 80-20%, random_state=42).\n",
    "- Chuẩn hóa data ( nếu có)\n",
    "- Lựa chọn feature ( nếu có)"
   ]
  },
  {
   "attachments": {},
   "cell_type": "markdown",
   "metadata": {},
   "source": [
    "### Câu 2: Xây dựng mô hình sử dụng học máy:\n",
    "\n",
    "- a. Sử dụng một thuật toán học máy (ví dụ: Logistic Regression, Decision Trees, Random Forest, hoặc SVM) để xây dựng mô hình.\n",
    "- b. Huấn luyện mô hình trên tập huấn luyện.\n",
    "- c. Sử dụng mô hình để dự đoán mức độ tiểu đường trên tập kiểm tra."
   ]
  },
  {
   "attachments": {},
   "cell_type": "markdown",
   "metadata": {},
   "source": [
    "\n",
    "### Câu 3: Đánh giá hiệu suất của mô hình:\n",
    "\n",
    "- a. Sử dụng các thước đo như độ chính xác (accuracy), precision, recall và F1-score để đánh giá hiệu suất của mô hình trên tập kiểm tra.\n",
    "- b. Vẽ biểu đồ ROC và tính diện tích dưới đường cong ROC (AUC-ROC) để đánh giá khả năng phân loại của mô hình. Mục tiêu AUC-ROC Score > 0.8\n"
   ]
  },
  {
   "attachments": {},
   "cell_type": "markdown",
   "metadata": {},
   "source": [
    "### Câu 4: Tinh chỉnh mô hình (nếu cần):\n",
    "\n",
    "- Nếu mô hình ban đầu không cho kết quả tốt mong muốn , bạn có thể tinh chỉnh các bước 1,2,3 để cải thiện hiệu suất."
   ]
  },
  {
   "attachments": {},
   "cell_type": "markdown",
   "metadata": {},
   "source": [
    "### Câu 5: Tạo một báo cáo tổng hợp về quá trình của bạn:\n",
    "\n",
    "- a. Mô tả quá trình xử lý dữ liệu bị thiếu (nếu có).\n",
    "- b. Trình bày các kết quả đánh giá hiệu suất của mô hình.\n",
    "- c. Nêu ý kiến về khả năng ứng dụng thực tế của mô hình và các cải tiến tiềm năng."
   ]
  },
  {
   "attachments": {},
   "cell_type": "markdown",
   "metadata": {},
   "source": [
    "### Câu 6: Triển khai mô hình trong thực tế \n",
    "- Sử dụng pickle lưu mô hình \n",
    "- Tạo 1 file code mới deploy.ipynb , load mô hình trong file này\n",
    "- Nhập vào các dữ liệu để dự đoán bệnh nhân có bị mắc tiểu đường hay không. (Chú ý chuẩn hóa dữ liệu theo tập train trước khi đưa dư liệu vào model)"
   ]
  }
 ],
 "metadata": {
  "kernelspec": {
   "display_name": "base",
   "language": "python",
   "name": "python3"
  },
  "language_info": {
   "codemirror_mode": {
    "name": "ipython",
    "version": 3
   },
   "file_extension": ".py",
   "mimetype": "text/x-python",
   "name": "python",
   "nbconvert_exporter": "python",
   "pygments_lexer": "ipython3",
   "version": "3.9.12"
  },
  "orig_nbformat": 4
 },
 "nbformat": 4,
 "nbformat_minor": 2
}
