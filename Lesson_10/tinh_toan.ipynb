{
 "cells": [
  {
   "cell_type": "markdown",
   "metadata": {},
   "source": [
    "| Thực tế | Dự đoán |  |\n",
    "| --- | --- | --- |\n",
    "| Có | Có | TP |\n",
    "| Không | Có |FP  |\n",
    "| Có | Không | FN |\n",
    "| Không | Không |TN  |\n",
    "| Có | Có | TP |\n",
    "| Có | Có | TP |\n",
    "| Không | Không | TN |\n",
    "| Có | Không |  FN|"
   ]
  },
  {
   "cell_type": "markdown",
   "metadata": {},
   "source": [
    "![Alt text](image.png)"
   ]
  },
  {
   "cell_type": "markdown",
   "metadata": {},
   "source": [
    "![Alt text](image-1.png)"
   ]
  },
  {
   "cell_type": "markdown",
   "metadata": {},
   "source": [
    "![Alt text](image-2.png)"
   ]
  },
  {
   "cell_type": "markdown",
   "metadata": {},
   "source": []
  }
 ],
 "metadata": {
  "language_info": {
   "name": "python"
  },
  "orig_nbformat": 4
 },
 "nbformat": 4,
 "nbformat_minor": 2
}
